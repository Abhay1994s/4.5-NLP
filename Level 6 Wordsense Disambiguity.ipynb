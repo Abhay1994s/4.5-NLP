{
 "cells": [
  {
   "cell_type": "markdown",
   "metadata": {
    "deletable": true,
    "editable": true
   },
   "source": [
    "### Word Sense Disambiguity"
   ]
  },
  {
   "cell_type": "markdown",
   "metadata": {
    "deletable": true,
    "editable": true
   },
   "source": [
    "Given the following sentences:\n",
    "\n",
    "    The agent will book the to the show for the entire family.\n",
    "    But you can generally book tickets online.\n",
    "    When you book tickets online they provide you with a book of stamps\n",
    "    \n",
    "If you could see the above sentences the word book is used in different context. In first two sentences the word book(verb) refers to the meaning 'reserve' while in the second portion of the third sentence book(noun) refers to a physical entity."
   ]
  },
  {
   "cell_type": "markdown",
   "metadata": {
    "deletable": true,
    "editable": true
   },
   "source": [
    "## Part - 1\n",
    "\n",
    "    Use the Lesk Module to find the similar words of the word *book* using the above sentences. Record your observations.\n",
    "    \n",
    "## Part - 2\n",
    "\n",
    "Tag sentences using Brill Tagger.\n",
    "\n",
    "### Brill Tagger\n",
    "\n",
    "The BrillTagger class is a **transformation-based tagger**. The BrillTagger class uses a series\n",
    "of rules to correct the results of an initial tagger. These rules are scored based on how many\n",
    "errors they correct minus the number of new errors they produce.\n",
    "\n",
    "The idea is simple Brill Tagger tries to correct the mistake made by the inital tagger. Brill tagger inputs an initial tagger and the templates which autmatically tells to create new rules based on the Training Set.\n",
    "\n",
    "**Recommended Steps:**\n",
    "\n",
    "1. Initially tag the sentence using POS Tagger. Then observe the POS tags for the word book in different context\n",
    "2. Then create a tagged_sentence using the POS Tagger correcting it with the mistakes it made.\n",
    "3. Now create a Brill Tagger using an initial tagger (POS) and pass templates(rules) to it.\n",
    "4. Train the Brill Tagger using the Tagged Sentence\n",
    "5. Test the Brill Tagger on the following sentences:\n",
    "       > \"I bought this book from Kerala\"\n",
    "       > \"He will book tickets to Kerala\"\n",
    "       \n",
    "## Part - 3\n",
    "\n",
    "    Perform Part-1 again but passing the POS tags produced by the Brill Tagger.\n",
    "    "
   ]
  },
  {
   "cell_type": "markdown",
   "metadata": {
    "deletable": true,
    "editable": true
   },
   "source": []
  },
  {
   "cell_type": "markdown",
   "metadata": {
    "deletable": true,
    "editable": true
   },
   "source": [
    "#### Import the required modules."
   ]
  },
  {
   "cell_type": "code",
   "execution_count": 15,
   "metadata": {
    "collapsed": false,
    "deletable": true,
    "editable": true
   },
   "outputs": [],
   "source": [
    "from nltk.wsd import lesk\n",
    "from nltk.tokenize import word_tokenize\n",
    "from nltk.tokenize import wordpunct_tokenize\n",
    "from nltk.corpus import brown\n",
    "from nltk.tag import pos_tag, map_tag"
   ]
  },
  {
   "cell_type": "markdown",
   "metadata": {
    "deletable": true,
    "editable": true
   },
   "source": [
    "#### Tokenize each sentence."
   ]
  },
  {
   "cell_type": "code",
   "execution_count": 17,
   "metadata": {
    "collapsed": true,
    "deletable": true,
    "editable": true
   },
   "outputs": [],
   "source": [
    "sent1 = 'The agent will book the to the show for the entire family.'\n",
    "sent1 = word_tokenize(sent1)\n",
    "sent2 = 'But you can generally book tickets online.'\n",
    "sent2 = word_tokenize(sent2)\n",
    "sent3 = 'When you book tickets online they provide you with a book of stamps'\n",
    "sent3 = word_tokenize(sent3)"
   ]
  },
  {
   "cell_type": "markdown",
   "metadata": {
    "deletable": true,
    "editable": true
   },
   "source": [
    "#### Lesk Module to find the similar words of the word \"book\" "
   ]
  },
  {
   "cell_type": "code",
   "execution_count": 3,
   "metadata": {
    "collapsed": false,
    "deletable": true,
    "editable": true
   },
   "outputs": [
    {
     "name": "stdout",
     "output_type": "stream",
     "text": [
      "Synset('koran.n.01')\n",
      "Synset('script.n.01')\n",
      "Synset('book.n.11')\n"
     ]
    }
   ],
   "source": [
    "print(lesk(sent1, 'book'))\n",
    "\n",
    "print(lesk(sent2, 'book'))\n",
    "\n",
    "print(lesk(sent3, 'book'))"
   ]
  },
  {
   "cell_type": "markdown",
   "metadata": {
    "deletable": true,
    "editable": true
   },
   "source": [
    "# Part 2"
   ]
  },
  {
   "cell_type": "markdown",
   "metadata": {
    "deletable": true,
    "editable": true
   },
   "source": [
    "### POS Tagging"
   ]
  },
  {
   "cell_type": "code",
   "execution_count": 4,
   "metadata": {
    "collapsed": true,
    "deletable": true,
    "editable": true
   },
   "outputs": [],
   "source": [
    "def pos_tagger(sen):\n",
    "    tagged = []\n",
    "    tokenized = wordpunct_tokenize(sen)\n",
    "    for i in tokenized:\n",
    "        words = word_tokenize(i)\n",
    "        tagged.append((pos_tag(words)))\n",
    "    return tagged"
   ]
  },
  {
   "cell_type": "code",
   "execution_count": 18,
   "metadata": {
    "collapsed": false,
    "deletable": true,
    "editable": true
   },
   "outputs": [
    {
     "data": {
      "text/plain": [
       "[[('The', 'DT')],\n",
       " [('agent', 'NN')],\n",
       " [('will', 'MD')],\n",
       " [('book', 'NN')],\n",
       " [('the', 'DT')],\n",
       " [('to', 'TO')],\n",
       " [('the', 'DT')],\n",
       " [('show', 'NN')],\n",
       " [('for', 'IN')],\n",
       " [('the', 'DT')],\n",
       " [('entire', 'JJ')],\n",
       " [('family', 'NN')],\n",
       " [('.', '.')]]"
      ]
     },
     "execution_count": 18,
     "metadata": {},
     "output_type": "execute_result"
    }
   ],
   "source": [
    "pos_tagger(\"The agent will book the to the show for the entire family.\")"
   ]
  },
  {
   "cell_type": "markdown",
   "metadata": {
    "deletable": true,
    "editable": true
   },
   "source": [
    "#### Corrected sentences"
   ]
  },
  {
   "cell_type": "code",
   "execution_count": 19,
   "metadata": {
    "collapsed": true,
    "deletable": true,
    "editable": true
   },
   "outputs": [],
   "source": [
    "corrected = [[('The', 'DT')],\n",
    " [('agent', 'NN')],\n",
    " [('will', 'MD')],\n",
    " [('book', 'VB')],\n",
    " [('the', 'DT')],\n",
    " [('to', 'TO')],\n",
    " [('the', 'DT')],\n",
    " [('show', 'NN')],\n",
    " [('for', 'IN')],\n",
    " [('the', 'DT')],\n",
    " [('entire', 'JJ')],\n",
    " [('family', 'NN')],\n",
    " [('.', '.')]]"
   ]
  },
  {
   "cell_type": "code",
   "execution_count": 5,
   "metadata": {
    "collapsed": true,
    "deletable": true,
    "editable": true
   },
   "outputs": [],
   "source": [
    "sen = \"He will book a ticket today. The Amazon Books Store offers you millions of titles. I have a book to finish. How to book a cab?\""
   ]
  },
  {
   "cell_type": "code",
   "execution_count": 6,
   "metadata": {
    "collapsed": true,
    "deletable": true,
    "editable": true
   },
   "outputs": [],
   "source": [
    "f = \"He\\\\PRP will\\\\VB book\\\\VB a\\\\DT ticket\\\\NN today\\\\NN .\\\\PUNCT The\\\\DT Amazon\\\\NN Books\\\\NNS Store\\\\NN offers\\\\NNS you\\\\PRP millions\\\\NNS of\\\\IN titles\\\\NNS .\\\\PUNCT I\\\\PRP have\\\\VB a\\\\DT book\\\\NN to\\\\TO finish\\\\VB .\\\\PUNCT How\\\\WRB to\\\\TO book\\\\VB a\\\\DT cab\\\\NN ?\\\\PUNCT \""
   ]
  },
  {
   "cell_type": "markdown",
   "metadata": {
    "deletable": true,
    "editable": true
   },
   "source": [
    "#### Import modules for brill tagger"
   ]
  },
  {
   "cell_type": "code",
   "execution_count": 7,
   "metadata": {
    "collapsed": false,
    "deletable": true,
    "editable": true
   },
   "outputs": [],
   "source": [
    "import nltk  \n",
    "from nltk.tag import RegexpTagger\n",
    "from nltk.tag import UnigramTagger, pos_tag\n",
    "from nltk.tag.brill import *\n",
    "from nltk.tag import brill\n",
    "from nltk import brill_trainer\n",
    "#from nltk.tag.simplify import simplify_wsj_tag\n"
   ]
  },
  {
   "cell_type": "markdown",
   "metadata": {
    "deletable": true,
    "editable": true
   },
   "source": [
    "#### Import the train file."
   ]
  },
  {
   "cell_type": "code",
   "execution_count": 27,
   "metadata": {
    "collapsed": false,
    "deletable": true,
    "editable": true
   },
   "outputs": [],
   "source": [
    "from nltk.corpus.reader import TaggedCorpusReader\n",
    "malay_tagged = TaggedCorpusReader('.', 't001.txt', sep=\"\\\\\")\n",
    "p = list(malay_tagged.tagged_sents())"
   ]
  },
  {
   "cell_type": "markdown",
   "metadata": {
    "deletable": true,
    "editable": true
   },
   "source": [
    "#### Training Data"
   ]
  },
  {
   "cell_type": "code",
   "execution_count": 30,
   "metadata": {
    "collapsed": false,
    "deletable": true,
    "editable": true
   },
   "outputs": [
    {
     "name": "stdout",
     "output_type": "stream",
     "text": [
      "[[('I', 'PRP'), ('will', 'VB'), ('book', 'VB'), ('a', 'DT'), ('ticket', 'NN'), ('today', 'NN'), ('.', 'PUNCT'), ('The', 'DT'), ('Amazon', 'NN'), ('Books', 'NNS'), ('Store', 'NN'), ('offers', 'NNS'), ('you', 'PRP'), ('millions', 'NNS'), ('of', 'IN'), ('titles', 'NNS'), ('.', 'PUNCT'), ('I', 'PRP'), ('have', 'VB'), ('a', 'DT'), ('book', 'NN'), ('to', 'TO'), ('finish', 'VB'), ('He', 'PRP'), ('will', 'VB'), ('book', 'VB'), ('tickets', 'NNS'), ('today', 'NN'), ('.', 'PUNCT'), ('.', 'PUNCT'), ('How', 'WRB'), ('to', 'TO'), ('book', 'VB'), ('a', 'DT'), ('cab', 'NN'), ('?', 'PUNCT'), ('I', 'PRP'), ('will', 'VB'), ('book', 'VB'), ('a', 'DET'), ('ticket', 'NN'), ('for', 'ADP'), ('today', 'NN'), ('evening', 'NN'), ('.', 'PUNCT'), ('I', 'PRP'), ('have', 'VB'), ('booked', 'VB'), ('a', 'DET'), ('room', 'NN'), ('for', 'ADP'), ('entire', 'ADJ'), ('family', 'NN'), ('at', 'ADP'), ('the', 'DET'), ('Park', 'NN'), ('Hotel', 'NN'), ('.', 'PUNCT')]]\n"
     ]
    }
   ],
   "source": [
    "print(p)"
   ]
  },
  {
   "cell_type": "markdown",
   "metadata": {
    "deletable": true,
    "editable": true
   },
   "source": [
    "#### Load pos tagger."
   ]
  },
  {
   "cell_type": "code",
   "execution_count": 14,
   "metadata": {
    "collapsed": false,
    "deletable": true,
    "editable": true
   },
   "outputs": [],
   "source": [
    "from nltk.data import load\n",
    "tagdict = load('taggers/maxent_treebank_pos_tagger/english.pickle')"
   ]
  },
  {
   "cell_type": "markdown",
   "metadata": {
    "deletable": true,
    "editable": true
   },
   "source": [
    "#### Train and test brill tagger."
   ]
  },
  {
   "cell_type": "code",
   "execution_count": 31,
   "metadata": {
    "collapsed": false,
    "deletable": true,
    "editable": true
   },
   "outputs": [
    {
     "name": "stdout",
     "output_type": "stream",
     "text": [
      "TBL train (fast) (seqs: 1; tokens: 58; tpls: 18; min score: 2; min acc: None)\n",
      "Finding initial useful rules...\n",
      "    Found 565 useful rules.\n",
      "\n",
      "           B      |\n",
      "   S   F   r   O  |        Score = Fixed - Broken\n",
      "   c   i   o   t  |  R     Fixed = num tags changed incorrect -> correct\n",
      "   o   x   k   h  |  u     Broken = num tags changed correct -> incorrect\n",
      "   r   e   e   e  |  l     Other = num tags changed incorrect -> incorrect\n",
      "   e   d   n   r  |  e\n",
      "------------------+-------------------------------------------------------\n",
      "   5   5   0   0  | .->PUNCT if Pos:NN@[-2,-1]\n",
      "   4   4   0   1  | NNP->NN if Pos:DT@[-3,-2,-1]\n",
      "   3   3   0   0  | IN->ADP if Pos:NN@[-1]\n",
      "   3   3   0   0  | MD->VB if Pos:PRP@[-1]\n",
      "   2   2   0   0  | VBP->VB if Pos:PRP@[-1]\n",
      "   2   2   0   0  | DT->DET if Pos:ADP@[2]\n"
     ]
    }
   ],
   "source": [
    "def train_brill_tagger(train_data):\n",
    "   \n",
    "\n",
    "    templates = [\n",
    "        brill.Template(brill.Pos([-1])),\n",
    "        brill.Template(brill.Pos([1])),\n",
    "        brill.Template(brill.Pos([-2])),\n",
    "        brill.Template(brill.Pos([2])),\n",
    "        brill.Template(brill.Pos([-2, -1])),\n",
    "        brill.Template(brill.Pos([1, 2])),\n",
    "        brill.Template(brill.Pos([-3, -2, -1])),\n",
    "        brill.Template(brill.Pos([1, 2, 3])),\n",
    "        brill.Template(brill.Pos([-1]), brill.Pos([1])),\n",
    "        brill.Template(brill.Word([-1])),\n",
    "        brill.Template(brill.Word([1])),\n",
    "        brill.Template(brill.Word([-2])),\n",
    "        brill.Template(brill.Word([2])),\n",
    "        brill.Template(brill.Word([-2, -1])),\n",
    "        brill.Template(brill.Word([1, 2])),\n",
    "        brill.Template(brill.Word([-3, -2, -1])),\n",
    "        brill.Template(brill.Word([1, 2, 3])),\n",
    "        brill.Template(brill.Word([-1]), brill.Word([1]))]\n",
    "    trainer = brill_trainer.BrillTaggerTrainer(tagdict,templates=templates,trace=3)\n",
    "    brill_tagger = trainer.train(train_data, max_rules=10)\n",
    "    return brill_tagger\n",
    "\n",
    "mt = train_brill_tagger(p)    "
   ]
  },
  {
   "cell_type": "code",
   "execution_count": 13,
   "metadata": {
    "collapsed": false,
    "deletable": true,
    "editable": true
   },
   "outputs": [
    {
     "name": "stdout",
     "output_type": "stream",
     "text": [
      "[('When', 'WRB'), ('you', 'PRP'), ('book', 'VB'), ('tickets', 'NNS'), ('online', 'VBP'), ('they', 'PRP'), ('provide', 'VB'), ('you', 'PRP'), ('with', 'IN'), ('a', 'DET'), ('book', 'NN'), ('of', 'ADP'), ('stamps', 'NNS')]\n"
     ]
    }
   ],
   "source": [
    "print(mt.tag(sent3))"
   ]
  },
  {
   "cell_type": "markdown",
   "metadata": {
    "deletable": true,
    "editable": true
   },
   "source": [
    "#### Use Brill Tagger for tagging"
   ]
  },
  {
   "cell_type": "code",
   "execution_count": 21,
   "metadata": {
    "collapsed": false,
    "deletable": true,
    "editable": true
   },
   "outputs": [
    {
     "name": "stdout",
     "output_type": "stream",
     "text": [
      "[('The', 'DT'), ('agent', 'NN'), ('will', 'MD'), ('book', 'VB'), ('the', 'DT'), ('to', 'TO'), ('the', 'DET'), ('show', 'NN'), ('for', 'ADP'), ('the', 'DT'), ('entire', 'JJ'), ('family', 'NN'), ('.', 'PUNCT')]\n"
     ]
    }
   ],
   "source": [
    "print(mt.tag(sent1))"
   ]
  },
  {
   "cell_type": "code",
   "execution_count": 22,
   "metadata": {
    "collapsed": false,
    "deletable": true,
    "editable": true
   },
   "outputs": [
    {
     "name": "stdout",
     "output_type": "stream",
     "text": [
      "[('But', 'CC'), ('you', 'PRP'), ('can', 'VB'), ('generally', 'RB'), ('book', 'VB'), ('tickets', 'NNS'), ('online', 'NN'), ('.', 'PUNCT')]\n"
     ]
    }
   ],
   "source": [
    "print(mt.tag(sent2))"
   ]
  },
  {
   "cell_type": "code",
   "execution_count": 23,
   "metadata": {
    "collapsed": false,
    "deletable": true,
    "editable": true
   },
   "outputs": [
    {
     "name": "stdout",
     "output_type": "stream",
     "text": [
      "[('When', 'WRB'), ('you', 'PRP'), ('book', 'VB'), ('tickets', 'NNS'), ('online', 'VBP'), ('they', 'PRP'), ('provide', 'VB'), ('you', 'PRP'), ('with', 'IN'), ('a', 'DET'), ('book', 'NN'), ('of', 'ADP'), ('stamps', 'NNS')]\n"
     ]
    }
   ],
   "source": [
    "print(mt.tag(sent3))"
   ]
  },
  {
   "cell_type": "code",
   "execution_count": 25,
   "metadata": {
    "collapsed": false,
    "deletable": true,
    "editable": true
   },
   "outputs": [
    {
     "name": "stdout",
     "output_type": "stream",
     "text": [
      "[('I', 'PRP'), ('bought', 'VBD'), ('this', 'DET'), ('book', 'NN'), ('from', 'ADP'), ('Kerala', 'NN')]\n"
     ]
    }
   ],
   "source": [
    "print(mt.tag(word_tokenize('I bought this book from Kerala')))"
   ]
  },
  {
   "cell_type": "code",
   "execution_count": 26,
   "metadata": {
    "collapsed": false,
    "deletable": true,
    "editable": true
   },
   "outputs": [
    {
     "name": "stdout",
     "output_type": "stream",
     "text": [
      "[('He', 'PRP'), ('will', 'VB'), ('book', 'VB'), ('tickets', 'NNS'), ('to', 'TO'), ('Kerala', 'NNP')]\n"
     ]
    }
   ],
   "source": [
    "print(mt.tag(word_tokenize(\"He will book tickets to Kerala\")))"
   ]
  },
  {
   "cell_type": "code",
   "execution_count": null,
   "metadata": {
    "collapsed": true,
    "deletable": true,
    "editable": true
   },
   "outputs": [],
   "source": []
  }
 ],
 "metadata": {
  "kernelspec": {
   "display_name": "Python 3",
   "language": "python",
   "name": "python3"
  },
  "language_info": {
   "codemirror_mode": {
    "name": "ipython",
    "version": 3
   },
   "file_extension": ".py",
   "mimetype": "text/x-python",
   "name": "python",
   "nbconvert_exporter": "python",
   "pygments_lexer": "ipython3",
   "version": "3.5.2"
  }
 },
 "nbformat": 4,
 "nbformat_minor": 2
}
